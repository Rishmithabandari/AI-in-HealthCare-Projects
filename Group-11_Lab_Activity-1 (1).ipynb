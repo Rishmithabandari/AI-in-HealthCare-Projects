{
  "nbformat": 4,
  "nbformat_minor": 0,
  "metadata": {
    "colab": {
      "provenance": [],
      "gpuType": "T4"
    },
    "kernelspec": {
      "name": "python3",
      "display_name": "Python 3"
    },
    "language_info": {
      "name": "python"
    },
    "accelerator": "GPU"
  },
  "cells": [
    {
      "cell_type": "code",
      "source": [
        "import tensorflow as tf\n",
        "import numpy as np\n",
        "import matplotlib.pyplot as plt"
      ],
      "metadata": {
        "id": "rUKmjO0kRNog"
      },
      "execution_count": 1,
      "outputs": []
    },
    {
      "cell_type": "code",
      "source": [
        "basic_program=tf.constant('Hello,World!')\n",
        "print(basic_program)\n",
        "tf.print(basic_program)"
      ],
      "metadata": {
        "colab": {
          "base_uri": "https://localhost:8080/"
        },
        "id": "5U9LcrurRk_E",
        "outputId": "6ff19fd0-1b8e-429f-f163-29bc9725a9b4"
      },
      "execution_count": 2,
      "outputs": [
        {
          "output_type": "stream",
          "name": "stdout",
          "text": [
            "tf.Tensor(b'Hello,World!', shape=(), dtype=string)\n",
            "Hello,World!\n"
          ]
        }
      ]
    },
    {
      "cell_type": "code",
      "source": [
        "a=tf.constant(1)\n",
        "b=tf.constant(2)\n",
        "add=tf.add(a,b)\n",
        "# print(add)\n",
        "tf.print(add)"
      ],
      "metadata": {
        "colab": {
          "base_uri": "https://localhost:8080/"
        },
        "id": "HprGuKQyR8NI",
        "outputId": "bb65d225-e107-4046-bb4e-49411fbbdbf7"
      },
      "execution_count": 3,
      "outputs": [
        {
          "output_type": "stream",
          "name": "stdout",
          "text": [
            "3\n"
          ]
        }
      ]
    },
    {
      "cell_type": "code",
      "source": [
        "# Define dynamic variables\n",
        "a = tf.Variable(10, dtype=tf.float32)\n",
        "b = tf.Variable(5, dtype=tf.float32)\n",
        "\n",
        "# Function to perform operations dynamically\n",
        "def perform_operations(a, b):\n",
        "    add = tf.add(a, b)      # Addition\n",
        "    subtract = tf.subtract(a, b)  # Subtraction\n",
        "    multiply = tf.multiply(a, b)  # Multiplication\n",
        "    divide = tf.divide(a, b)      # Division\n",
        "\n",
        "    tf.print(\"Addition:\", add)\n",
        "    tf.print(\"Subtraction:\", subtract)\n",
        "    tf.print(\"Multiplication:\", multiply)\n",
        "    tf.print(\"Division:\", divide)\n",
        "\n",
        "# Call the function with the initial values\n",
        "perform_operations(a, b)\n",
        "\n",
        "# Dynamically change the values\n",
        "a.assign(20)\n",
        "b.assign(10)\n",
        "\n",
        "# Call the function with new values\n",
        "perform_operations(a, b)"
      ],
      "metadata": {
        "colab": {
          "base_uri": "https://localhost:8080/"
        },
        "id": "_ibSuXBCSp4P",
        "outputId": "28dd2a56-e146-4ed6-ee37-99964624fcd7"
      },
      "execution_count": 4,
      "outputs": [
        {
          "output_type": "stream",
          "name": "stdout",
          "text": [
            "Addition: 15\n",
            "Subtraction: 5\n",
            "Multiplication: 50\n",
            "Division: 2\n",
            "Addition: 30\n",
            "Subtraction: 10\n",
            "Multiplication: 200\n",
            "Division: 2\n"
          ]
        }
      ]
    },
    {
      "cell_type": "code",
      "source": [
        "import tensorflow as tf\n",
        "\n",
        "# Define dynamic variables with initial placeholder values\n",
        "a = tf.Variable(0.0, dtype=tf.float32)\n",
        "b = tf.Variable(0.0, dtype=tf.float32)\n",
        "\n",
        "# Function to perform operations dynamically\n",
        "def perform_operations(a, b):\n",
        "    add = tf.add(a, b)      # Addition\n",
        "    subtract = tf.subtract(a, b)  # Subtraction\n",
        "    multiply = tf.multiply(a, b)  # Multiplication\n",
        "    divide = tf.divide(a, b)      # Division\n",
        "\n",
        "    tf.print(\"Addition:\", add)\n",
        "    tf.print(\"Subtraction:\", subtract)\n",
        "    tf.print(\"Multiplication:\", multiply)\n",
        "    tf.print(\"Division:\", divide)\n",
        "\n",
        "# Loop to take inputs from the user and perform operations\n",
        "while True:\n",
        "    # Take user input for a and b\n",
        "    a_value = float(input(\"Enter value for a: \"))\n",
        "    b_value = float(input(\"Enter value for b: \"))\n",
        "\n",
        "    # Assign new values to variables\n",
        "    a.assign(a_value)\n",
        "    b.assign(b_value)\n",
        "\n",
        "    # Perform operations with the new values\n",
        "    perform_operations(a, b)\n",
        "\n",
        "    # Ask if the user wants to continue\n",
        "    cont = input(\"Do you want to continue? (y/n): \").strip().lower()\n",
        "    if cont != 'y':\n",
        "        break"
      ],
      "metadata": {
        "colab": {
          "base_uri": "https://localhost:8080/"
        },
        "id": "9VjXn_leURzf",
        "outputId": "ffe5b561-c834-4424-e23d-277b367ee4a3"
      },
      "execution_count": 5,
      "outputs": [
        {
          "name": "stdout",
          "output_type": "stream",
          "text": [
            "Enter value for a: 5\n",
            "Enter value for b: 2\n",
            "Addition: 7\n",
            "Subtraction: 3\n",
            "Multiplication: 10\n",
            "Division: 2.5\n",
            "Do you want to continue? (y/n): y\n",
            "Enter value for a: 3\n",
            "Enter value for b: 1\n",
            "Addition: 4\n",
            "Subtraction: 2\n",
            "Multiplication: 3\n",
            "Division: 3\n",
            "Do you want to continue? (y/n): n\n"
          ]
        }
      ]
    },
    {
      "cell_type": "code",
      "source": [
        "# Initial training data\n",
        "x_train = tf.constant([[1.0], [2.0], [3.0], [4.0], [5.0], [6.0]])\n",
        "y_train = tf.constant([[2.0], [4.0], [6.0], [8.0], [10.0], [12.0]])\n",
        "\n",
        "\n",
        "# Define a simple linear regression model\n",
        "model = tf.keras.Sequential([\n",
        "    tf.keras.layers.Dense(units=1, input_shape=[1])\n",
        "])\n",
        "\n",
        "# Compile the model\n",
        "optimizer = tf.keras.optimizers.SGD(learning_rate=0.1)\n",
        "model.compile(optimizer='sgd', loss='mean_squared_error')\n",
        "\n",
        "\n",
        "# Train the model on initial data\n",
        "model.fit(x_train, y_train, epochs=5000, verbose=0) # Based oon x value set epoches\n",
        "\n",
        "# Function to dynamically predict based on user input\n",
        "def dynamic_prediction(model):\n",
        "    while True:\n",
        "        try:\n",
        "            # Take dynamic input from the user\n",
        "            x_input = float(input(\"Enter a value for x: \"))\n",
        "            x_input_tensor = tf.constant([[x_input]])\n",
        "\n",
        "            # Predict using the trained model\n",
        "            y_pred = model.predict(x_input_tensor)\n",
        "            tf.print(f\"Prediction for x={x_input}: y={y_pred[0][0]}\")\n",
        "\n",
        "            # Check if the user wants to continue\n",
        "            cont = input(\"Do you want to continue? (yes/no): \").strip().lower()\n",
        "            if cont != 'yes':\n",
        "                break\n",
        "        except ValueError:\n",
        "            print(\"Please enter a valid number.\")\n",
        "\n",
        "# Call the function for dynamic prediction\n",
        "dynamic_prediction(model)"
      ],
      "metadata": {
        "colab": {
          "base_uri": "https://localhost:8080/"
        },
        "id": "FHJ2GfHWYfJY",
        "outputId": "7da45e81-2cca-44f1-ff90-c9897eeda19d"
      },
      "execution_count": 6,
      "outputs": [
        {
          "output_type": "stream",
          "name": "stderr",
          "text": [
            "/usr/local/lib/python3.11/dist-packages/keras/src/layers/core/dense.py:87: UserWarning: Do not pass an `input_shape`/`input_dim` argument to a layer. When using Sequential models, prefer using an `Input(shape)` object as the first layer in the model instead.\n",
            "  super().__init__(activity_regularizer=activity_regularizer, **kwargs)\n"
          ]
        },
        {
          "name": "stdout",
          "output_type": "stream",
          "text": [
            "Enter a value for x: 3\n",
            "\u001b[1m1/1\u001b[0m \u001b[32m━━━━━━━━━━━━━━━━━━━━\u001b[0m\u001b[37m\u001b[0m \u001b[1m0s\u001b[0m 89ms/step\n",
            "Prediction for x=3.0: y=6.000000476837158\n",
            "Do you want to continue? (yes/no): n\n"
          ]
        }
      ]
    },
    {
      "cell_type": "code",
      "source": [
        "import tensorflow as tf\n",
        "import numpy as np\n",
        "\n",
        "# Function to dynamically generate x_train and y_train based on y = 2x - 1\n",
        "def generate_data(start, end, step=1):\n",
        "    # Generate x values from start to end with the given step\n",
        "    x_values = np.arange(start, end, step, dtype=np.float32)\n",
        "    # Calculate y values based on the equation y = 2x - 1\n",
        "    y_values = 2 * x_values - 1\n",
        "    return x_values, y_values\n",
        "\n",
        "# Generate dynamic training data for x = [1, 2, 3, ..., 6]\n",
        "x_train, y_train = generate_data(1, 7, 1)  # start=1, end=7 (exclusive), step=1\n",
        "\n",
        "# Convert to TensorFlow constants\n",
        "x_train = tf.constant(x_train.reshape(-1, 1))\n",
        "y_train = tf.constant(y_train.reshape(-1, 1))\n",
        "\n",
        "# Define a simple linear regression model\n",
        "model = tf.keras.Sequential([\n",
        "    tf.keras.layers.Dense(units=1, input_shape=[1])\n",
        "])\n",
        "\n",
        "# Compile the model\n",
        "optimizer = tf.keras.optimizers.SGD(learning_rate=0.1)\n",
        "model.compile(optimizer='sgd', loss='mean_squared_error')\n",
        "\n",
        "# Train the model on the dynamically generated data\n",
        "model.fit(x_train, y_train, epochs=5000, verbose=0)  # Adjust based on x-value\n",
        "\n",
        "# Function to dynamically predict based on user input\n",
        "def dynamic_prediction(model):\n",
        "    while True:\n",
        "        try:\n",
        "            # Take dynamic input from the user\n",
        "            x_input = float(input(\"Enter a value for x: \"))\n",
        "            x_input_tensor = tf.constant([[x_input]])\n",
        "\n",
        "            # Predict using the trained model\n",
        "            y_pred = model.predict(x_input_tensor)\n",
        "            tf.print(f\"Prediction for x={x_input}: y={y_pred[0][0]}\")\n",
        "\n",
        "            # Check if the user wants to continue\n",
        "            cont = input(\"Do you want to continue? (yes/no): \").strip().lower()\n",
        "            if cont != 'yes':\n",
        "                break\n",
        "        except ValueError:\n",
        "            print(\"Please enter a valid number.\")\n",
        "\n",
        "# Call the function for dynamic prediction\n",
        "dynamic_prediction(model)"
      ],
      "metadata": {
        "colab": {
          "base_uri": "https://localhost:8080/"
        },
        "id": "m2_UgWCnahHx",
        "outputId": "220ad377-4308-4968-81ff-e458e3ad4925"
      },
      "execution_count": 7,
      "outputs": [
        {
          "name": "stdout",
          "output_type": "stream",
          "text": [
            "Enter a value for x: 3\n",
            "\u001b[1m1/1\u001b[0m \u001b[32m━━━━━━━━━━━━━━━━━━━━\u001b[0m\u001b[37m\u001b[0m \u001b[1m0s\u001b[0m 49ms/step\n",
            "Prediction for x=3.0: y=5.000002861022949\n",
            "Do you want to continue? (yes/no): n\n"
          ]
        }
      ]
    },
    {
      "cell_type": "code",
      "source": [
        "#y=3x+2\n",
        "import tensorflow as tf\n",
        "import numpy as np\n",
        "\n",
        "# Function to dynamically generate x_train and y_train based on y=3x+2\n",
        "def generate_data(start, end, step=1):\n",
        "    # Generate x values from start to end with the given step\n",
        "    x_values = np.arange(start, end, step, dtype=np.float32)\n",
        "    # Calculate y values based on the equation  y=3x+2\n",
        "    y_values = 3 * x_values + 2\n",
        "    return x_values, y_values\n",
        "\n",
        "# Generate dynamic training data for x = [1, 2, 3, ..., 6]\n",
        "x_train, y_train = generate_data(1, 7, 1)  # start=1, end=7 (exclusive), step=1\n",
        "\n",
        "# Convert to TensorFlow constants\n",
        "x_train = tf.constant(x_train.reshape(-1, 1))\n",
        "y_train = tf.constant(y_train.reshape(-1, 1))\n",
        "\n",
        "# Define a simple linear regression model\n",
        "model = tf.keras.Sequential([\n",
        "    tf.keras.layers.Dense(units=1, input_shape=[1])\n",
        "])\n",
        "\n",
        "# Compile the model\n",
        "optimizer = tf.keras.optimizers.SGD(learning_rate=0.1)\n",
        "model.compile(optimizer='sgd', loss='mean_squared_error')\n",
        "\n",
        "# Train the model on the dynamically generated data\n",
        "model.fit(x_train, y_train, epochs=5000, verbose=0)  # Adjust based on x-value\n",
        "\n",
        "# Function to dynamically predict based on user input\n",
        "def dynamic_prediction(model):\n",
        "    while True:\n",
        "        try:\n",
        "            # Take dynamic input from the user\n",
        "            x_input = float(input(\"Enter a value for x: \"))\n",
        "            x_input_tensor = tf.constant([[x_input]])\n",
        "\n",
        "            # Predict using the trained model\n",
        "            y_pred = model.predict(x_input_tensor)\n",
        "            tf.print(f\"Prediction for x={x_input}: y={y_pred[0][0]}\")\n",
        "\n",
        "            # Check if the user wants to continue\n",
        "            cont = input(\"Do you want to continue? (yes/no): \").strip().lower()\n",
        "            if cont != 'yes':\n",
        "                break\n",
        "        except ValueError:\n",
        "            print(\"Please enter a valid number.\")\n",
        "\n",
        "# Call the function for dynamic prediction\n",
        "dynamic_prediction(model)"
      ],
      "metadata": {
        "colab": {
          "base_uri": "https://localhost:8080/"
        },
        "id": "CFaWcn1QayKN",
        "outputId": "6b374682-d555-45f0-93d8-a608d3ca961d"
      },
      "execution_count": 8,
      "outputs": [
        {
          "name": "stdout",
          "output_type": "stream",
          "text": [
            "Enter a value for x: 3\n",
            "\u001b[1m1/1\u001b[0m \u001b[32m━━━━━━━━━━━━━━━━━━━━\u001b[0m\u001b[37m\u001b[0m \u001b[1m0s\u001b[0m 48ms/step\n",
            "Prediction for x=3.0: y=10.999994277954102\n",
            "Do you want to continue? (yes/no): n\n"
          ]
        }
      ]
    },
    {
      "cell_type": "code",
      "source": [
        "import tensorflow as tf\n",
        "import numpy as np\n",
        "\n",
        "# Function to dynamically generate x_train and y_train based on y = 3x1 + 2x2 + 1\n",
        "def generate_data(start, end, step=1):\n",
        "    # Generate x1 and x2 values from start to end with the given step\n",
        "    x1_values = np.arange(start, end, step, dtype=np.float32)\n",
        "    x2_values = np.arange(start, end, step, dtype=np.float32)\n",
        "    # Calculate y values based on the equation y = 3x1 + 2x2 + 1\n",
        "    y_values = 3 * x1_values + 2 * x2_values + 1\n",
        "    return x1_values, x2_values, y_values\n",
        "\n",
        "# Generate dynamic training data for x1 = [1, 2, 3, ..., 6] and x2 = [1, 2, 3, ..., 6]\n",
        "x1_train, x2_train, y_train = generate_data(1, 7, 1)  # start=1, end=7 (exclusive), step=1\n",
        "\n",
        "# Stack x1_train and x2_train to create a 2D input tensor\n",
        "x_train = np.stack((x1_train, x2_train), axis=1)\n",
        "\n",
        "# Normalize the data (optional but can help in some cases)\n",
        "x_train = (x_train - np.mean(x_train, axis=0)) / np.std(x_train, axis=0)\n",
        "\n",
        "# Convert to TensorFlow constants\n",
        "x_train = tf.constant(x_train)\n",
        "y_train = tf.constant(y_train.reshape(-1, 1))\n",
        "\n",
        "# Define a simple linear regression model with two input features\n",
        "model = tf.keras.Sequential([\n",
        "    tf.keras.layers.Dense(units=1, input_shape=[2], kernel_initializer='GlorotUniform')  # Use Glorot initialization\n",
        "])\n",
        "\n",
        "# Compile the model with a smaller learning rate\n",
        "optimizer = tf.keras.optimizers.SGD(learning_rate=0.01)  # Reduced learning rate\n",
        "model.compile(optimizer=optimizer, loss='mean_squared_error')\n",
        "\n",
        "# Train the model on the dynamically generated data\n",
        "model.fit(x_train, y_train, epochs=5000, verbose=0)  # Adjust based on x-value\n",
        "\n",
        "# Print final training loss (Mean Squared Error)\n",
        "final_loss = model.history.history['loss'][-1]\n",
        "print(f\"Final training loss (Mean Squared Error): {final_loss}\")\n",
        "\n",
        "# Function to dynamically predict based on user input\n",
        "def dynamic_prediction(model):\n",
        "    while True:\n",
        "        try:\n",
        "            # Take dynamic input for x1 and x2 from the user\n",
        "            x1_input = float(input(\"Enter a value for x1: \"))\n",
        "            x2_input = float(input(\"Enter a value for x2: \"))\n",
        "\n",
        "            # Prepare the input tensor (with both x1 and x2 values)\n",
        "            x_input_tensor = tf.constant([[x1_input, x2_input]])\n",
        "\n",
        "            # Predict using the trained model\n",
        "            y_pred = model.predict(x_input_tensor)\n",
        "            print(f\"Prediction for x1={x1_input}, x2={x2_input}: y={y_pred[0][0]}\")\n",
        "\n",
        "            # Check if the user wants to continue\n",
        "            cont = input(\"Do you want to continue? (yes/no): \").strip().lower()\n",
        "            if cont != 'yes':\n",
        "                break\n",
        "        except ValueError:\n",
        "            print(\"Please enter valid numbers.\")\n",
        "\n",
        "# Call the function for dynamic prediction\n",
        "dynamic_prediction(model)\n"
      ],
      "metadata": {
        "colab": {
          "base_uri": "https://localhost:8080/"
        },
        "id": "Xxz89mvAcGZX",
        "outputId": "6fecf939-b57d-48f6-940a-ec32f0b948ec"
      },
      "execution_count": 9,
      "outputs": [
        {
          "name": "stdout",
          "output_type": "stream",
          "text": [
            "Final training loss (Mean Squared Error): 2.107753971358761e-09\n",
            "Enter a value for x1: 3\n",
            "Enter a value for x2: 2\n",
            "\u001b[1m1/1\u001b[0m \u001b[32m━━━━━━━━━━━━━━━━━━━━\u001b[0m\u001b[37m\u001b[0m \u001b[1m0s\u001b[0m 106ms/step\n",
            "Prediction for x1=3.0, x2=2.0: y=40.259429931640625\n",
            "Do you want to continue? (yes/no): n\n"
          ]
        }
      ]
    },
    {
      "cell_type": "code",
      "source": [
        "import tensorflow as tf\n",
        "import numpy as np\n",
        "\n",
        "# Function to generate training data\n",
        "def generate_data_3vars(start, end, step=1):\n",
        "    x1_values = np.arange(start, end, step, dtype=np.float32)\n",
        "    x2_values = np.arange(start, end, step, dtype=np.float32)\n",
        "    x3_values = np.arange(start, end, step, dtype=np.float32)\n",
        "    y_values = 3 * x1_values + 2 * x2_values + 4 * x3_values + 1\n",
        "    return x1_values, x2_values, x3_values, y_values\n",
        "\n",
        "# Generate training data\n",
        "x1_train, x2_train, x3_train, y_train = generate_data_3vars(1, 7, 1)\n",
        "x_train = np.stack((x1_train, x2_train, x3_train), axis=1)\n",
        "\n",
        "# Normalize training data\n",
        "x_train_mean = np.mean(x_train, axis=0)\n",
        "x_train_std = np.std(x_train, axis=0)\n",
        "x_train_normalized = (x_train - x_train_mean) / x_train_std\n",
        "\n",
        "# Convert to TensorFlow tensors\n",
        "x_train_normalized = tf.constant(x_train_normalized)\n",
        "y_train = tf.constant(y_train.reshape(-1, 1))\n",
        "\n",
        "# Define the model\n",
        "model = tf.keras.Sequential([\n",
        "    tf.keras.layers.Dense(units=1, input_shape=[3], kernel_initializer='GlorotUniform')\n",
        "])\n",
        "\n",
        "# Compile the model\n",
        "optimizer = tf.keras.optimizers.Adam(learning_rate=0.01)  # Using Adam optimizer for better convergence\n",
        "model.compile(optimizer=optimizer, loss='mean_squared_error')\n",
        "\n",
        "# Train the model\n",
        "model.fit(x_train_normalized, y_train, epochs=10000, verbose=0)  # Increased epochs for better training\n",
        "\n",
        "# Final loss\n",
        "final_loss = model.history.history['loss'][-1]\n",
        "print(f\"Final training loss (Mean Squared Error): {final_loss}\")\n",
        "\n",
        "# Prediction function\n",
        "def dynamic_prediction_3vars(model):\n",
        "    while True:\n",
        "        try:\n",
        "            x1_input = float(input(\"Enter a value for x1: \"))\n",
        "            x2_input = float(input(\"Enter a value for x2: \"))\n",
        "            x3_input = float(input(\"Enter a value for x3: \"))\n",
        "\n",
        "            # Normalize inputs\n",
        "            x_input = np.array([[x1_input, x2_input, x3_input]])\n",
        "            x_input_normalized = (x_input - x_train_mean) / x_train_std\n",
        "\n",
        "            # Predict\n",
        "            y_pred = model.predict(x_input_normalized, verbose=0)\n",
        "            print(f\"Prediction for x1={x1_input}, x2={x2_input}, x3={x3_input}: y={y_pred[0][0]}\")\n",
        "\n",
        "            cont = input(\"Do you want to continue? (yes/no): \").strip().lower()\n",
        "            if cont != 'yes':\n",
        "                break\n",
        "        except ValueError:\n",
        "            print(\"Please enter valid numbers.\")\n",
        "\n",
        "# Start prediction\n",
        "dynamic_prediction_3vars(model)"
      ],
      "metadata": {
        "colab": {
          "base_uri": "https://localhost:8080/"
        },
        "id": "bjxLcwy4-_xD",
        "outputId": "5cf47042-ad82-4e53-ffe8-b6f6bfa9170a"
      },
      "execution_count": 12,
      "outputs": [
        {
          "name": "stdout",
          "output_type": "stream",
          "text": [
            "Final training loss (Mean Squared Error): 9.837094694375992e-09\n",
            "Enter a value for x1: 3\n",
            "Enter a value for x2: 2\n",
            "Enter a value for x3: 4\n",
            "Prediction for x1=3.0, x2=2.0, x3=4.0: y=28.936485290527344\n",
            "Do you want to continue? (yes/no): m\n"
          ]
        }
      ]
    }
  ]
}